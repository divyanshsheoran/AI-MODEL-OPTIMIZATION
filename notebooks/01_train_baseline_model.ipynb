{
 "cells": [
  {
   "cell_type": "markdown",
   "id": "f0dcc9e3",
   "metadata": {},
   "source": [
    "# 01 - Train Baseline MobileNetV2 on CIFAR-10\n",
    "\n",
    "This notebook trains a baseline MobileNetV2 model on the CIFAR-10 dataset.  \n",
    "It evaluates the model's accuracy and saves the trained model for further optimization.\n"
   ]
  },
  {
   "cell_type": "code",
   "execution_count": 20,
   "id": "02089b30",
   "metadata": {},
   "outputs": [],
   "source": [
    "# 2 Import libraries\n",
    "\n",
    "import torch\n",
    "import torchvision\n",
    "import torchvision.transforms as transforms\n",
    "import torchvision.models as models\n",
    "import torch.nn as nn\n",
    "import torch.optim as optim\n",
    "import os\n",
    "from time import time\n"
   ]
  },
  {
   "cell_type": "code",
   "execution_count": 21,
   "id": "a77fb6dd",
   "metadata": {},
   "outputs": [
    {
     "name": "stdout",
     "output_type": "stream",
     "text": [
      "Using device: cpu\n"
     ]
    }
   ],
   "source": [
    "# 3 Setup drvice\n",
    "device = torch.device('cuda' if torch.cuda.is_available() else 'cpu')\n",
    "print(f\"Using device: {device}\")\n",
    "\n",
    "\n"
   ]
  },
  {
   "cell_type": "code",
   "execution_count": 22,
   "id": "fba6c43e",
   "metadata": {},
   "outputs": [
    {
     "name": "stdout",
     "output_type": "stream",
     "text": [
      "✅ CIFAR-10 loaded successfully!\n"
     ]
    }
   ],
   "source": [
    "# 4 Load and Transform CIFAR-10\n",
    "\n",
    "import ssl\n",
    "import torchvision.transforms as transforms\n",
    "import torchvision.datasets as datasets\n",
    "import torch.utils.data as data\n",
    "\n",
    "# Define transformations\n",
    "transform = transforms.Compose([\n",
    "    transforms.Resize(224),  # Required input size for MobileNetV2\n",
    "    transforms.ToTensor(),\n",
    "    transforms.Normalize((0.5, 0.5, 0.5), (0.5, 0.5, 0.5))\n",
    "])\n",
    "\n",
    "# Load CIFAR-10 dataset from extracted files\n",
    "trainset = datasets.CIFAR10(root='../data', train=True, download=False, transform=transform)\n",
    "trainloader = data.DataLoader(trainset, batch_size=32, shuffle=True)\n",
    "\n",
    "testset = datasets.CIFAR10(root='../data', train=False, download=False, transform=transform)\n",
    "testloader = data.DataLoader(testset, batch_size=32, shuffle=False)\n",
    "\n",
    "print(\"✅ CIFAR-10 loaded successfully!\")\n"
   ]
  },
  {
   "cell_type": "code",
   "execution_count": 23,
   "id": "06e99868",
   "metadata": {},
   "outputs": [],
   "source": [
    "#5 Load and Modify MobileNetV2\n",
    "model = models.mobilenet_v2(pretrained=True)\n",
    "model.classifier[1] = nn.Linear(model.last_channel, 10)  # CIFAR-10 = 10 classes\n",
    "model = model.to(device)\n"
   ]
  },
  {
   "cell_type": "code",
   "execution_count": 24,
   "id": "a9498e58",
   "metadata": {},
   "outputs": [],
   "source": [
    "# 6 Loss Function and Optimizer\n",
    "criterion = nn.CrossEntropyLoss()\n",
    "optimizer = optim.Adam(model.parameters(), lr=0.001)\n"
   ]
  },
  {
   "cell_type": "code",
   "execution_count": 25,
   "id": "5f25b033",
   "metadata": {},
   "outputs": [
    {
     "name": "stdout",
     "output_type": "stream",
     "text": [
      "✅ Epoch 1/2, Loss: 31.2258\n",
      "✅ Epoch 2/2, Loss: 26.3782\n"
     ]
    }
   ],
   "source": [
    "#7 Training Loop\n",
    "# Shortened Training Loop (for limited CPU devices)\n",
    "EPOCHS = 2\n",
    "max_batches = 20  # Limit training to 20 batches only\n",
    "\n",
    "for epoch in range(EPOCHS):\n",
    "    running_loss = 0.0\n",
    "    model.train()\n",
    "    \n",
    "    for i, (images, labels) in enumerate(trainloader):\n",
    "        if i >= max_batches:\n",
    "            break\n",
    "\n",
    "        images, labels = images.to(device), labels.to(device)\n",
    "\n",
    "        optimizer.zero_grad()\n",
    "        outputs = model(images)\n",
    "        loss = criterion(outputs, labels)\n",
    "        loss.backward()\n",
    "        optimizer.step()\n",
    "\n",
    "        running_loss += loss.item()\n",
    "\n",
    "    print(f\"✅ Epoch {epoch+1}/{EPOCHS}, Loss: {running_loss:.4f}\")\n",
    "\n"
   ]
  },
  {
   "cell_type": "code",
   "execution_count": 26,
   "id": "796f1007",
   "metadata": {},
   "outputs": [
    {
     "name": "stdout",
     "output_type": "stream",
     "text": [
      "Test Accuracy: 58.01%\n"
     ]
    }
   ],
   "source": [
    "#8: Evaluate Accuracy\n",
    "correct = 0\n",
    "total = 0\n",
    "model.eval()\n",
    "with torch.no_grad():\n",
    "    for images, labels in testloader:\n",
    "        images, labels = images.to(device), labels.to(device)\n",
    "        outputs = model(images)\n",
    "        _, predicted = torch.max(outputs, 1)\n",
    "        total += labels.size(0)\n",
    "        correct += (predicted == labels).sum().item()\n",
    "\n",
    "accuracy = 100 * correct / total\n",
    "print(f\"Test Accuracy: {accuracy:.2f}%\")\n"
   ]
  },
  {
   "cell_type": "code",
   "execution_count": 27,
   "id": "ba0309e6",
   "metadata": {},
   "outputs": [
    {
     "name": "stdout",
     "output_type": "stream",
     "text": [
      "Model saved to '../models/mobilenetv2_cifar10_baseline.pth'\n"
     ]
    }
   ],
   "source": [
    "#9: Save the Trained Model\n",
    "os.makedirs('../models', exist_ok=True)\n",
    "torch.save(model.state_dict(), '../models/mobilenetv2_cifar10_baseline.pth')\n",
    "print(\"Model saved to '../models/mobilenetv2_cifar10_baseline.pth'\")\n"
   ]
  }
 ],
 "metadata": {
  "kernelspec": {
   "display_name": "venv",
   "language": "python",
   "name": "python3"
  },
  "language_info": {
   "codemirror_mode": {
    "name": "ipython",
    "version": 3
   },
   "file_extension": ".py",
   "mimetype": "text/x-python",
   "name": "python",
   "nbconvert_exporter": "python",
   "pygments_lexer": "ipython3",
   "version": "3.13.0"
  }
 },
 "nbformat": 4,
 "nbformat_minor": 5
}
