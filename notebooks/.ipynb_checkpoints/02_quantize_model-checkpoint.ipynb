{
 "cells": [
  {
   "cell_type": "markdown",
   "id": "09e6f6eb",
   "metadata": {},
   "source": [
    "# 🔧 02 - Quantize MobileNetV2 with PyTorch\n",
    "\n",
    "This notebook applies **post-training static quantization** to a MobileNetV2 model trained on CIFAR-10.  \n",
    "It compares accuracy and model size before and after quantization.\n"
   ]
  }
 ],
 "metadata": {
  "kernelspec": {
   "display_name": "venv",
   "language": "python",
   "name": "python3"
  },
  "language_info": {
   "name": "python",
   "version": "3.13.0"
  }
 },
 "nbformat": 4,
 "nbformat_minor": 5
}
